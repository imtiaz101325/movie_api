{
 "nbformat": 4,
 "nbformat_minor": 2,
 "metadata": {
  "language_info": {
   "name": "python",
   "codemirror_mode": {
    "name": "ipython",
    "version": 3
   },
   "version": "3.8.2-final"
  },
  "orig_nbformat": 2,
  "file_extension": ".py",
  "mimetype": "text/x-python",
  "name": "python",
  "npconvert_exporter": "python",
  "pygments_lexer": "ipython3",
  "version": 3,
  "kernelspec": {
   "name": "python3",
   "display_name": "Python 3"
  }
 },
 "cells": [
  {
   "cell_type": "code",
   "execution_count": 1,
   "metadata": {},
   "outputs": [],
   "source": [
    "import pandas as pd\n",
    "\n",
    "movies = pd.read_csv('movies.csv')\n",
    "ratings = pd.read_csv('ratings.csv')"
   ]
  },
  {
   "cell_type": "code",
   "execution_count": 2,
   "metadata": {},
   "outputs": [
    {
     "output_type": "stream",
     "name": "stdout",
     "text": "<class 'pandas.core.frame.DataFrame'>\nRangeIndex: 9742 entries, 0 to 9741\nData columns (total 3 columns):\n #   Column   Non-Null Count  Dtype \n---  ------   --------------  ----- \n 0   movieId  9742 non-null   int64 \n 1   title    9742 non-null   object\n 2   genres   9742 non-null   object\ndtypes: int64(1), object(2)\nmemory usage: 228.5+ KB\n"
    }
   ],
   "source": [
    "movies.info()"
   ]
  },
  {
   "cell_type": "code",
   "execution_count": 3,
   "metadata": {},
   "outputs": [
    {
     "output_type": "execute_result",
     "data": {
      "text/plain": "   movieId                               title  \\\n0        1                    Toy Story (1995)   \n1        2                      Jumanji (1995)   \n2        3             Grumpier Old Men (1995)   \n3        4            Waiting to Exhale (1995)   \n4        5  Father of the Bride Part II (1995)   \n\n                                        genres  \n0  Adventure|Animation|Children|Comedy|Fantasy  \n1                   Adventure|Children|Fantasy  \n2                               Comedy|Romance  \n3                         Comedy|Drama|Romance  \n4                                       Comedy  ",
      "text/html": "<div>\n<style scoped>\n    .dataframe tbody tr th:only-of-type {\n        vertical-align: middle;\n    }\n\n    .dataframe tbody tr th {\n        vertical-align: top;\n    }\n\n    .dataframe thead th {\n        text-align: right;\n    }\n</style>\n<table border=\"1\" class=\"dataframe\">\n  <thead>\n    <tr style=\"text-align: right;\">\n      <th></th>\n      <th>movieId</th>\n      <th>title</th>\n      <th>genres</th>\n    </tr>\n  </thead>\n  <tbody>\n    <tr>\n      <th>0</th>\n      <td>1</td>\n      <td>Toy Story (1995)</td>\n      <td>Adventure|Animation|Children|Comedy|Fantasy</td>\n    </tr>\n    <tr>\n      <th>1</th>\n      <td>2</td>\n      <td>Jumanji (1995)</td>\n      <td>Adventure|Children|Fantasy</td>\n    </tr>\n    <tr>\n      <th>2</th>\n      <td>3</td>\n      <td>Grumpier Old Men (1995)</td>\n      <td>Comedy|Romance</td>\n    </tr>\n    <tr>\n      <th>3</th>\n      <td>4</td>\n      <td>Waiting to Exhale (1995)</td>\n      <td>Comedy|Drama|Romance</td>\n    </tr>\n    <tr>\n      <th>4</th>\n      <td>5</td>\n      <td>Father of the Bride Part II (1995)</td>\n      <td>Comedy</td>\n    </tr>\n  </tbody>\n</table>\n</div>"
     },
     "metadata": {},
     "execution_count": 3
    }
   ],
   "source": [
    "movies.head()"
   ]
  },
  {
   "cell_type": "code",
   "execution_count": 4,
   "metadata": {},
   "outputs": [
    {
     "output_type": "execute_result",
     "data": {
      "text/plain": "9737"
     },
     "metadata": {},
     "execution_count": 4
    }
   ],
   "source": [
    "len(movies.title.unique())"
   ]
  },
  {
   "cell_type": "code",
   "execution_count": 5,
   "metadata": {},
   "outputs": [
    {
     "output_type": "execute_result",
     "data": {
      "text/plain": "      movieId                                   title  \\\n650       838                             Emma (1996)   \n2141     2851                         Saturn 3 (1980)   \n4169     6003  Confessions of a Dangerous Mind (2002)   \n5601    26958                             Emma (1996)   \n5854    32600                             Eros (2004)   \n5931    34048                War of the Worlds (2005)   \n6932    64997                War of the Worlds (2005)   \n9106   144606  Confessions of a Dangerous Mind (2002)   \n9135   147002                             Eros (2004)   \n9468   168358                         Saturn 3 (1980)   \n\n                                   genres  \n650                  Comedy|Drama|Romance  \n2141            Adventure|Sci-Fi|Thriller  \n4169          Comedy|Crime|Drama|Thriller  \n5601                              Romance  \n5854                                Drama  \n5931     Action|Adventure|Sci-Fi|Thriller  \n6932                        Action|Sci-Fi  \n9106  Comedy|Crime|Drama|Romance|Thriller  \n9135                        Drama|Romance  \n9468                      Sci-Fi|Thriller  ",
      "text/html": "<div>\n<style scoped>\n    .dataframe tbody tr th:only-of-type {\n        vertical-align: middle;\n    }\n\n    .dataframe tbody tr th {\n        vertical-align: top;\n    }\n\n    .dataframe thead th {\n        text-align: right;\n    }\n</style>\n<table border=\"1\" class=\"dataframe\">\n  <thead>\n    <tr style=\"text-align: right;\">\n      <th></th>\n      <th>movieId</th>\n      <th>title</th>\n      <th>genres</th>\n    </tr>\n  </thead>\n  <tbody>\n    <tr>\n      <th>650</th>\n      <td>838</td>\n      <td>Emma (1996)</td>\n      <td>Comedy|Drama|Romance</td>\n    </tr>\n    <tr>\n      <th>2141</th>\n      <td>2851</td>\n      <td>Saturn 3 (1980)</td>\n      <td>Adventure|Sci-Fi|Thriller</td>\n    </tr>\n    <tr>\n      <th>4169</th>\n      <td>6003</td>\n      <td>Confessions of a Dangerous Mind (2002)</td>\n      <td>Comedy|Crime|Drama|Thriller</td>\n    </tr>\n    <tr>\n      <th>5601</th>\n      <td>26958</td>\n      <td>Emma (1996)</td>\n      <td>Romance</td>\n    </tr>\n    <tr>\n      <th>5854</th>\n      <td>32600</td>\n      <td>Eros (2004)</td>\n      <td>Drama</td>\n    </tr>\n    <tr>\n      <th>5931</th>\n      <td>34048</td>\n      <td>War of the Worlds (2005)</td>\n      <td>Action|Adventure|Sci-Fi|Thriller</td>\n    </tr>\n    <tr>\n      <th>6932</th>\n      <td>64997</td>\n      <td>War of the Worlds (2005)</td>\n      <td>Action|Sci-Fi</td>\n    </tr>\n    <tr>\n      <th>9106</th>\n      <td>144606</td>\n      <td>Confessions of a Dangerous Mind (2002)</td>\n      <td>Comedy|Crime|Drama|Romance|Thriller</td>\n    </tr>\n    <tr>\n      <th>9135</th>\n      <td>147002</td>\n      <td>Eros (2004)</td>\n      <td>Drama|Romance</td>\n    </tr>\n    <tr>\n      <th>9468</th>\n      <td>168358</td>\n      <td>Saturn 3 (1980)</td>\n      <td>Sci-Fi|Thriller</td>\n    </tr>\n  </tbody>\n</table>\n</div>"
     },
     "metadata": {},
     "execution_count": 5
    }
   ],
   "source": [
    "movies[movies.duplicated(['title'], keep=False)]"
   ]
  },
  {
   "cell_type": "markdown",
   "metadata": {},
   "source": [
    "Found some duplicate data"
   ]
  },
  {
   "cell_type": "code",
   "execution_count": 6,
   "metadata": {},
   "outputs": [
    {
     "output_type": "stream",
     "name": "stdout",
     "text": "<class 'pandas.core.frame.DataFrame'>\nRangeIndex: 100836 entries, 0 to 100835\nData columns (total 4 columns):\n #   Column     Non-Null Count   Dtype  \n---  ------     --------------   -----  \n 0   userId     100836 non-null  int64  \n 1   movieId    100836 non-null  int64  \n 2   rating     100836 non-null  float64\n 3   timestamp  100836 non-null  int64  \ndtypes: float64(1), int64(3)\nmemory usage: 3.1 MB\n"
    }
   ],
   "source": [
    "ratings.info()"
   ]
  },
  {
   "cell_type": "code",
   "execution_count": 7,
   "metadata": {},
   "outputs": [
    {
     "output_type": "execute_result",
     "data": {
      "text/plain": "   userId  movieId  rating  timestamp\n0       1        1     4.0  964982703\n1       1        3     4.0  964981247\n2       1        6     4.0  964982224\n3       1       47     5.0  964983815\n4       1       50     5.0  964982931",
      "text/html": "<div>\n<style scoped>\n    .dataframe tbody tr th:only-of-type {\n        vertical-align: middle;\n    }\n\n    .dataframe tbody tr th {\n        vertical-align: top;\n    }\n\n    .dataframe thead th {\n        text-align: right;\n    }\n</style>\n<table border=\"1\" class=\"dataframe\">\n  <thead>\n    <tr style=\"text-align: right;\">\n      <th></th>\n      <th>userId</th>\n      <th>movieId</th>\n      <th>rating</th>\n      <th>timestamp</th>\n    </tr>\n  </thead>\n  <tbody>\n    <tr>\n      <th>0</th>\n      <td>1</td>\n      <td>1</td>\n      <td>4.0</td>\n      <td>964982703</td>\n    </tr>\n    <tr>\n      <th>1</th>\n      <td>1</td>\n      <td>3</td>\n      <td>4.0</td>\n      <td>964981247</td>\n    </tr>\n    <tr>\n      <th>2</th>\n      <td>1</td>\n      <td>6</td>\n      <td>4.0</td>\n      <td>964982224</td>\n    </tr>\n    <tr>\n      <th>3</th>\n      <td>1</td>\n      <td>47</td>\n      <td>5.0</td>\n      <td>964983815</td>\n    </tr>\n    <tr>\n      <th>4</th>\n      <td>1</td>\n      <td>50</td>\n      <td>5.0</td>\n      <td>964982931</td>\n    </tr>\n  </tbody>\n</table>\n</div>"
     },
     "metadata": {},
     "execution_count": 7
    }
   ],
   "source": [
    "ratings.head()"
   ]
  },
  {
   "cell_type": "code",
   "execution_count": 8,
   "metadata": {},
   "outputs": [],
   "source": [
    "from sqlalchemy import create_engine\n",
    "from sqlalchemy.orm import sessionmaker\n",
    "from scrapy.exceptions import DropItem\n",
    "from models import Movie, MovieGenre, MovieRating, create_table\n",
    "\n",
    "engine = create_engine('sqlite:///movies.db')\n",
    "create_table(engine)\n",
    "Session = sessionmaker(bind=engine)"
   ]
  },
  {
   "cell_type": "markdown",
   "metadata": {},
   "source": [
    "- for each movie in csv file find movie in database and store the csv files movieId\n",
    "- add the genres to the movie in database\n",
    "- add the ratings using the stored movieId"
   ]
  },
  {
   "cell_type": "code",
   "execution_count": 10,
   "metadata": {
    "tags": [
     "outputPrepend",
     "outputPrepend",
     "outputPrepend",
     "outputPrepend",
     "outputPrepend",
     "outputPrepend",
     "outputPrepend",
     "outputPrepend"
    ]
   },
   "outputs": [],
   "source": [
    "import datetime\n",
    "\n",
    "session = Session()\n",
    "for index, row in movies[:100].iterrows():\n",
    "    # print(row['title'])\n",
    "    # title, year = row['title'].replace(')', '').split(' (')\n",
    "    # print(title, year)\n",
    "    # print(row['title'][-7:])\n",
    "    title = row['title'][:-7]\n",
    "    year = row['title'][-7:].replace(' (', '').replace(')', '')\n",
    "    # print(year)\n",
    "\n",
    "    movie = session.query(Movie).filter_by(\n",
    "        name = title, year = year\n",
    "    ).first()\n",
    "\n",
    "    if movie is not None:\n",
    "        # print(movie.name, movie.id)\n",
    "        genres = row['genres'].split('|')\n",
    "        # print(genres)\n",
    "\n",
    "        for genre in genres:\n",
    "            movie.genre.append(MovieGenre(genre = genre))\n",
    "        filtered_ratings = ratings[ratings['movieId'] == row['movieId']]\n",
    "        for index, rating_row in filtered_ratings.iterrows():\n",
    "            movie.rating.append(MovieRating(user_id = rating_row['userId'], rating = rating_row['rating'], timestamp = datetime.datetime.fromtimestamp(rating_row['timestamp'])))\n",
    "\n",
    "\n",
    "        session.add(movie)\n",
    "        session.commit()\n",
    "\n",
    ""
   ]
  },
  {
   "cell_type": "code",
   "execution_count": null,
   "metadata": {},
   "outputs": [],
   "source": []
  }
 ]
}