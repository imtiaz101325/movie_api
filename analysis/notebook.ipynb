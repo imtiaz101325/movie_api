{
 "nbformat": 4,
 "nbformat_minor": 2,
 "metadata": {
  "language_info": {
   "name": "python",
   "codemirror_mode": {
    "name": "ipython",
    "version": 3
   },
   "version": "3.8.2-final"
  },
  "orig_nbformat": 2,
  "file_extension": ".py",
  "mimetype": "text/x-python",
  "name": "python",
  "npconvert_exporter": "python",
  "pygments_lexer": "ipython3",
  "version": 3,
  "kernelspec": {
   "name": "python3",
   "display_name": "Python 3"
  }
 },
 "cells": [
  {
   "cell_type": "code",
   "execution_count": 1,
   "metadata": {},
   "outputs": [
    {
     "output_type": "stream",
     "name": "stdout",
     "text": "<class 'pandas.core.frame.DataFrame'>\nRangeIndex: 1304 entries, 0 to 1303\nData columns (total 63 columns):\n #   Column                Non-Null Count  Dtype  \n---  ------                --------------  -----  \n 0   name                  1303 non-null   object \n 1   image                 1137 non-null   object \n 2   Hangul                1 non-null      object \n 3   Hanja                 1 non-null      object \n 4   Revised Romanization  1 non-null      object \n 5   McCune–Reischauer     1 non-null      object \n 6   Directed by           1286 non-null   object \n 7   Produced by           1261 non-null   object \n 8   Screenplay by         539 non-null    object \n 9   Story by              163 non-null    object \n 10  Starring              1147 non-null   object \n 11  Music by              1075 non-null   object \n 12  Cinematography        1111 non-null   object \n 13  Edited by             1139 non-null   object \n 14  Production            876 non-null    object \n 15  Distributed by        1214 non-null   object \n 16  Release date          1296 non-null   object \n 17  Running time          1283 non-null   object \n 18  Country               1271 non-null   object \n 19  Language              1267 non-null   object \n 20  Budget                797 non-null    object \n 21  Box office            877 non-null    object \n 22  Based on              528 non-null    object \n 23  Written by            622 non-null    object \n 24  Animation by          31 non-null     object \n 25  Layouts by            15 non-null     object \n 26  Color process         28 non-null     object \n 27  Narrated by           119 non-null    object \n 28  Backgrounds by        11 non-null     object \n 29  Suggested by          2 non-null      object \n 30  Episode               1 non-null      object \n 31  Featured music        1 non-null      object \n 32  Original air date     1 non-null      object \n 33  Portuguese            1 non-null      object \n 34  Narration by          1 non-null      object \n 35  Editor(s)             2 non-null      object \n 36  Distributor           2 non-null      object \n 37  Original release      3 non-null      object \n 38  Spanish               2 non-null      object \n 39  Created by            1 non-null      object \n 40  Country of origin     2 non-null      object \n 41  Original              2 non-null      object \n 42  No.                   1 non-null      float64\n 43  Producer(s)           2 non-null      object \n 44  Original network      1 non-null      object \n 45  Picture format        1 non-null      object \n 46  Adaptation by         1 non-null      object \n 47  Theme music composer  1 non-null      object \n 48  Traditional           1 non-null      object \n 49  Simplified            1 non-null      object \n 50  Mandarin              1 non-null      object \n 51  Japanese              1 non-null      object \n 52  Hepburn               1 non-null      object \n 53  Author                1 non-null      object \n 54  Illustrator           1 non-null      object \n 55  Publisher             1 non-null      object \n 56  Publication date      1 non-null      float64\n 57  Media type            1 non-null      object \n 58  Pages                 1 non-null      float64\n 59  ISBN                  1 non-null      object \n 60  OCLC                  1 non-null      float64\n 61  Dewey Decimal         1 non-null      object \n 62  Website               1 non-null      object \ndtypes: float64(4), object(59)\nmemory usage: 641.9+ KB\n"
    }
   ],
   "source": [
    "import pandas as pd\n",
    "\n",
    "data = pd.read_json('data.json', orient='records')\n",
    "\n",
    "data.info()"
   ]
  },
  {
   "cell_type": "markdown",
   "metadata": {},
   "source": [
    "Looking at the output of the `info` call we can see that many of the columns have only a few values. We can safely remove these columns form our final data model."
   ]
  },
  {
   "cell_type": "code",
   "execution_count": 2,
   "metadata": {},
   "outputs": [
    {
     "output_type": "stream",
     "name": "stdout",
     "text": "<class 'pandas.core.frame.DataFrame'>\nRangeIndex: 1304 entries, 0 to 1303\nData columns (total 25 columns):\n #   Column          Non-Null Count  Dtype \n---  ------          --------------  ----- \n 0   name            1303 non-null   object\n 1   image           1137 non-null   object\n 2   Directed by     1286 non-null   object\n 3   Produced by     1261 non-null   object\n 4   Screenplay by   539 non-null    object\n 5   Story by        163 non-null    object\n 6   Starring        1147 non-null   object\n 7   Music by        1075 non-null   object\n 8   Cinematography  1111 non-null   object\n 9   Edited by       1139 non-null   object\n 10  Production      876 non-null    object\n 11  Distributed by  1214 non-null   object\n 12  Release date    1296 non-null   object\n 13  Running time    1283 non-null   object\n 14  Country         1271 non-null   object\n 15  Language        1267 non-null   object\n 16  Budget          797 non-null    object\n 17  Box office      877 non-null    object\n 18  Based on        528 non-null    object\n 19  Written by      622 non-null    object\n 20  Animation by    31 non-null     object\n 21  Layouts by      15 non-null     object\n 22  Color process   28 non-null     object\n 23  Narrated by     119 non-null    object\n 24  Backgrounds by  11 non-null     object\ndtypes: object(25)\nmemory usage: 254.8+ KB\n"
    }
   ],
   "source": [
    "data = data.dropna(thresh=5, axis=1)\n",
    "\n",
    "data.info()"
   ]
  },
  {
   "cell_type": "markdown",
   "metadata": {},
   "source": [
    "Checking why important columns such as name and release date have missing values"
   ]
  },
  {
   "cell_type": "code",
   "execution_count": 3,
   "metadata": {},
   "outputs": [
    {
     "output_type": "execute_result",
     "data": {
      "text/plain": "     name                                              image Directed by  \\\n1170  NaN  {'src': '//upload.wikimedia.org/wikipedia/en/t...         NaN   \n\n     Produced by Screenplay by Story by Starring Music by Cinematography  \\\n1170         NaN           NaN      NaN      NaN      NaN            NaN   \n\n     Edited by  ... Language Budget Box office Based on Written by  \\\n1170       NaN  ...  English    NaN        NaN      NaN        NaN   \n\n     Animation by Layouts by Color process Narrated by Backgrounds by  \n1170          NaN        NaN           NaN         NaN            NaN  \n\n[1 rows x 25 columns]",
      "text/html": "<div>\n<style scoped>\n    .dataframe tbody tr th:only-of-type {\n        vertical-align: middle;\n    }\n\n    .dataframe tbody tr th {\n        vertical-align: top;\n    }\n\n    .dataframe thead th {\n        text-align: right;\n    }\n</style>\n<table border=\"1\" class=\"dataframe\">\n  <thead>\n    <tr style=\"text-align: right;\">\n      <th></th>\n      <th>name</th>\n      <th>image</th>\n      <th>Directed by</th>\n      <th>Produced by</th>\n      <th>Screenplay by</th>\n      <th>Story by</th>\n      <th>Starring</th>\n      <th>Music by</th>\n      <th>Cinematography</th>\n      <th>Edited by</th>\n      <th>...</th>\n      <th>Language</th>\n      <th>Budget</th>\n      <th>Box office</th>\n      <th>Based on</th>\n      <th>Written by</th>\n      <th>Animation by</th>\n      <th>Layouts by</th>\n      <th>Color process</th>\n      <th>Narrated by</th>\n      <th>Backgrounds by</th>\n    </tr>\n  </thead>\n  <tbody>\n    <tr>\n      <th>1170</th>\n      <td>NaN</td>\n      <td>{'src': '//upload.wikimedia.org/wikipedia/en/t...</td>\n      <td>NaN</td>\n      <td>NaN</td>\n      <td>NaN</td>\n      <td>NaN</td>\n      <td>NaN</td>\n      <td>NaN</td>\n      <td>NaN</td>\n      <td>NaN</td>\n      <td>...</td>\n      <td>English</td>\n      <td>NaN</td>\n      <td>NaN</td>\n      <td>NaN</td>\n      <td>NaN</td>\n      <td>NaN</td>\n      <td>NaN</td>\n      <td>NaN</td>\n      <td>NaN</td>\n      <td>NaN</td>\n    </tr>\n  </tbody>\n</table>\n<p>1 rows × 25 columns</p>\n</div>"
     },
     "metadata": {},
     "execution_count": 3
    }
   ],
   "source": [
    "data[pd.isna(data['name'])]"
   ]
  },
  {
   "cell_type": "markdown",
   "metadata": {},
   "source": [
    "Only the image seems to be present here"
   ]
  },
  {
   "cell_type": "code",
   "execution_count": 4,
   "metadata": {},
   "outputs": [
    {
     "output_type": "execute_result",
     "data": {
      "text/plain": "'//upload.wikimedia.org/wikipedia/en/thumb/a/ae/The_Lost_Thing_cover.jpg/220px-The_Lost_Thing_cover.jpg'"
     },
     "metadata": {},
     "execution_count": 4
    }
   ],
   "source": [
    "data[pd.isna(data['name'])].image.values[0]['src']"
   ]
  },
  {
   "cell_type": "markdown",
   "metadata": {},
   "source": [
    "Doing some reseach we find the the link for this film actually points to a [book page](https://en.wikipedia.org/wiki/The_Lost_Thing) that does not have the same information in the side box as the rest. So ignoring this."
   ]
  },
  {
   "cell_type": "code",
   "execution_count": 5,
   "metadata": {},
   "outputs": [
    {
     "output_type": "execute_result",
     "data": {
      "text/plain": "                     name                                              image  \\\n232    Episode chronology                                                NaN   \n609   Czechoslovakia 1968                                                NaN   \n761               Release                                                NaN   \n902        External links  {'src': '//upload.wikimedia.org/wikipedia/en/t...   \n972        External links  {'src': '//upload.wikimedia.org/wikipedia/en/t...   \n1070      Chernobyl Heart                                                NaN   \n1170                  NaN  {'src': '//upload.wikimedia.org/wikipedia/en/t...   \n1219               Curfew  {'src': '//upload.wikimedia.org/wikipedia/en/t...   \n\n            Directed by    Produced by Screenplay by Story by       Starring  \\\n232       Robert Enrico            NaN           NaN      NaN            NaN   \n609       Denis Sanders  Denis Sanders           NaN      NaN            NaN   \n761       Ferenc Rofusz            NaN           NaN      NaN            NaN   \n902                 NaN            NaN           NaN      NaN            NaN   \n972           Jon Blair            NaN           NaN      NaN    Glenn Close   \n1070      Maryann DeLeo  Maryann DeLeo           NaN      NaN            NaN   \n1170                NaN            NaN           NaN      NaN            NaN   \n1219  Shawn Christensen  Damon Russell           NaN      NaN  Fátima Ptacek   \n\n               Music by Cinematography          Edited by  ... Language  \\\n232                 NaN            NaN                NaN  ...      NaN   \n609   Charles Bernstein            NaN   Marvin Wallowitz  ...  English   \n761                 NaN            NaN                NaN  ...      NaN   \n902                 NaN            NaN                NaN  ...      NaN   \n972                 NaN  Barry Ackroyd                NaN  ...      NaN   \n1070                NaN            NaN      John Custodio  ...      NaN   \n1170                NaN            NaN                NaN  ...  English   \n1219       Darren Morze    Daniel Katz  Shawn Christensen  ...  English   \n\n     Budget Box office Based on                                Written by  \\\n232     NaN        NaN      NaN  Robert Enrico, based on a short story by   \n609     NaN        NaN      NaN                                       NaN   \n761     NaN        NaN      NaN                             Ferenc Rofusz   \n902     NaN        NaN      NaN                                       NaN   \n972     NaN        NaN      NaN                                 Jon Blair   \n1070    NaN        NaN      NaN                                       NaN   \n1170    NaN        NaN      NaN                                       NaN   \n1219    NaN        NaN      NaN                         Shawn Christensen   \n\n     Animation by Layouts by Color process      Narrated by Backgrounds by  \n232           NaN        NaN           NaN              NaN            NaN  \n609           NaN        NaN           NaN              NaN            NaN  \n761           NaN        NaN           NaN              NaN            NaN  \n902           NaN        NaN           NaN              NaN            NaN  \n972           NaN        NaN           NaN  Kenneth Branagh            NaN  \n1070          NaN        NaN           NaN              NaN            NaN  \n1170          NaN        NaN           NaN              NaN            NaN  \n1219          NaN        NaN           NaN              NaN            NaN  \n\n[8 rows x 25 columns]",
      "text/html": "<div>\n<style scoped>\n    .dataframe tbody tr th:only-of-type {\n        vertical-align: middle;\n    }\n\n    .dataframe tbody tr th {\n        vertical-align: top;\n    }\n\n    .dataframe thead th {\n        text-align: right;\n    }\n</style>\n<table border=\"1\" class=\"dataframe\">\n  <thead>\n    <tr style=\"text-align: right;\">\n      <th></th>\n      <th>name</th>\n      <th>image</th>\n      <th>Directed by</th>\n      <th>Produced by</th>\n      <th>Screenplay by</th>\n      <th>Story by</th>\n      <th>Starring</th>\n      <th>Music by</th>\n      <th>Cinematography</th>\n      <th>Edited by</th>\n      <th>...</th>\n      <th>Language</th>\n      <th>Budget</th>\n      <th>Box office</th>\n      <th>Based on</th>\n      <th>Written by</th>\n      <th>Animation by</th>\n      <th>Layouts by</th>\n      <th>Color process</th>\n      <th>Narrated by</th>\n      <th>Backgrounds by</th>\n    </tr>\n  </thead>\n  <tbody>\n    <tr>\n      <th>232</th>\n      <td>Episode chronology</td>\n      <td>NaN</td>\n      <td>Robert Enrico</td>\n      <td>NaN</td>\n      <td>NaN</td>\n      <td>NaN</td>\n      <td>NaN</td>\n      <td>NaN</td>\n      <td>NaN</td>\n      <td>NaN</td>\n      <td>...</td>\n      <td>NaN</td>\n      <td>NaN</td>\n      <td>NaN</td>\n      <td>NaN</td>\n      <td>Robert Enrico, based on a short story by</td>\n      <td>NaN</td>\n      <td>NaN</td>\n      <td>NaN</td>\n      <td>NaN</td>\n      <td>NaN</td>\n    </tr>\n    <tr>\n      <th>609</th>\n      <td>Czechoslovakia 1968</td>\n      <td>NaN</td>\n      <td>Denis Sanders</td>\n      <td>Denis Sanders</td>\n      <td>NaN</td>\n      <td>NaN</td>\n      <td>NaN</td>\n      <td>Charles Bernstein</td>\n      <td>NaN</td>\n      <td>Marvin Wallowitz</td>\n      <td>...</td>\n      <td>English</td>\n      <td>NaN</td>\n      <td>NaN</td>\n      <td>NaN</td>\n      <td>NaN</td>\n      <td>NaN</td>\n      <td>NaN</td>\n      <td>NaN</td>\n      <td>NaN</td>\n      <td>NaN</td>\n    </tr>\n    <tr>\n      <th>761</th>\n      <td>Release</td>\n      <td>NaN</td>\n      <td>Ferenc Rofusz</td>\n      <td>NaN</td>\n      <td>NaN</td>\n      <td>NaN</td>\n      <td>NaN</td>\n      <td>NaN</td>\n      <td>NaN</td>\n      <td>NaN</td>\n      <td>...</td>\n      <td>NaN</td>\n      <td>NaN</td>\n      <td>NaN</td>\n      <td>NaN</td>\n      <td>Ferenc Rofusz</td>\n      <td>NaN</td>\n      <td>NaN</td>\n      <td>NaN</td>\n      <td>NaN</td>\n      <td>NaN</td>\n    </tr>\n    <tr>\n      <th>902</th>\n      <td>External links</td>\n      <td>{'src': '//upload.wikimedia.org/wikipedia/en/t...</td>\n      <td>NaN</td>\n      <td>NaN</td>\n      <td>NaN</td>\n      <td>NaN</td>\n      <td>NaN</td>\n      <td>NaN</td>\n      <td>NaN</td>\n      <td>NaN</td>\n      <td>...</td>\n      <td>NaN</td>\n      <td>NaN</td>\n      <td>NaN</td>\n      <td>NaN</td>\n      <td>NaN</td>\n      <td>NaN</td>\n      <td>NaN</td>\n      <td>NaN</td>\n      <td>NaN</td>\n      <td>NaN</td>\n    </tr>\n    <tr>\n      <th>972</th>\n      <td>External links</td>\n      <td>{'src': '//upload.wikimedia.org/wikipedia/en/t...</td>\n      <td>Jon Blair</td>\n      <td>NaN</td>\n      <td>NaN</td>\n      <td>NaN</td>\n      <td>Glenn Close</td>\n      <td>NaN</td>\n      <td>Barry Ackroyd</td>\n      <td>NaN</td>\n      <td>...</td>\n      <td>NaN</td>\n      <td>NaN</td>\n      <td>NaN</td>\n      <td>NaN</td>\n      <td>Jon Blair</td>\n      <td>NaN</td>\n      <td>NaN</td>\n      <td>NaN</td>\n      <td>Kenneth Branagh</td>\n      <td>NaN</td>\n    </tr>\n    <tr>\n      <th>1070</th>\n      <td>Chernobyl Heart</td>\n      <td>NaN</td>\n      <td>Maryann DeLeo</td>\n      <td>Maryann DeLeo</td>\n      <td>NaN</td>\n      <td>NaN</td>\n      <td>NaN</td>\n      <td>NaN</td>\n      <td>NaN</td>\n      <td>John Custodio</td>\n      <td>...</td>\n      <td>NaN</td>\n      <td>NaN</td>\n      <td>NaN</td>\n      <td>NaN</td>\n      <td>NaN</td>\n      <td>NaN</td>\n      <td>NaN</td>\n      <td>NaN</td>\n      <td>NaN</td>\n      <td>NaN</td>\n    </tr>\n    <tr>\n      <th>1170</th>\n      <td>NaN</td>\n      <td>{'src': '//upload.wikimedia.org/wikipedia/en/t...</td>\n      <td>NaN</td>\n      <td>NaN</td>\n      <td>NaN</td>\n      <td>NaN</td>\n      <td>NaN</td>\n      <td>NaN</td>\n      <td>NaN</td>\n      <td>NaN</td>\n      <td>...</td>\n      <td>English</td>\n      <td>NaN</td>\n      <td>NaN</td>\n      <td>NaN</td>\n      <td>NaN</td>\n      <td>NaN</td>\n      <td>NaN</td>\n      <td>NaN</td>\n      <td>NaN</td>\n      <td>NaN</td>\n    </tr>\n    <tr>\n      <th>1219</th>\n      <td>Curfew</td>\n      <td>{'src': '//upload.wikimedia.org/wikipedia/en/t...</td>\n      <td>Shawn Christensen</td>\n      <td>Damon Russell</td>\n      <td>NaN</td>\n      <td>NaN</td>\n      <td>Fátima Ptacek</td>\n      <td>Darren Morze</td>\n      <td>Daniel Katz</td>\n      <td>Shawn Christensen</td>\n      <td>...</td>\n      <td>English</td>\n      <td>NaN</td>\n      <td>NaN</td>\n      <td>NaN</td>\n      <td>Shawn Christensen</td>\n      <td>NaN</td>\n      <td>NaN</td>\n      <td>NaN</td>\n      <td>NaN</td>\n      <td>NaN</td>\n    </tr>\n  </tbody>\n</table>\n<p>8 rows × 25 columns</p>\n</div>"
     },
     "metadata": {},
     "execution_count": 5
    }
   ],
   "source": [
    "data[pd.isna(data['Release date'])]"
   ]
  },
  {
   "cell_type": "markdown",
   "metadata": {},
   "source": [
    "These entries also have a lot of missing data on their respective pages-- including differnt html structure. So we can so far assume that the parsing is working properly.\n",
    "\n",
    "Now let's try to structure the data into different tables "
   ]
  },
  {
   "cell_type": "code",
   "execution_count": 6,
   "metadata": {},
   "outputs": [
    {
     "output_type": "execute_result",
     "data": {
      "text/plain": "Index(['name', 'Layouts by', 'Color process', 'Backgrounds by'], dtype='object')"
     },
     "metadata": {},
     "execution_count": 6
    }
   ],
   "source": [
    "from pandas.api.types import infer_dtype\n",
    "\n",
    "dtypes = [infer_dtype(data[col]) for col in data.columns]\n",
    "\n",
    "data.columns[list(map(lambda x: x == 'string', dtypes))]"
   ]
  },
  {
   "cell_type": "markdown",
   "metadata": {},
   "source": [
    "So far most of the columns seem to have mixed types of data"
   ]
  },
  {
   "cell_type": "code",
   "execution_count": 7,
   "metadata": {},
   "outputs": [
    {
     "output_type": "stream",
     "name": "stdout",
     "text": "count               1304\nunique                 2\ntop       <class 'dict'>\nfreq                1137\nName: image, dtype: object\n[<class 'dict'> <class 'float'>]\n\ncount              1304\nunique                3\ntop       <class 'str'>\nfreq               1253\nName: Directed by, dtype: object\n[<class 'str'> <class 'list'> <class 'float'>]\n\ncount              1304\nunique                3\ntop       <class 'str'>\nfreq                982\nName: Produced by, dtype: object\n[<class 'list'> <class 'str'> <class 'float'>]\n\ncount                1304\nunique                  3\ntop       <class 'float'>\nfreq                  765\nName: Screenplay by, dtype: object\n[<class 'list'> <class 'str'> <class 'float'>]\n\ncount                1304\nunique                  3\ntop       <class 'float'>\nfreq                 1141\nName: Story by, dtype: object\n[<class 'str'> <class 'float'> <class 'list'>]\n\ncount              1304\nunique                3\ntop       <class 'str'>\nfreq                608\nName: Starring, dtype: object\n[<class 'list'> <class 'float'> <class 'str'>]\n\ncount              1304\nunique                3\ntop       <class 'str'>\nfreq               1021\nName: Music by, dtype: object\n[<class 'str'> <class 'list'> <class 'float'>]\n\ncount              1304\nunique                3\ntop       <class 'str'>\nfreq               1070\nName: Cinematography, dtype: object\n[<class 'str'> <class 'float'> <class 'list'>]\n\ncount              1304\nunique                3\ntop       <class 'str'>\nfreq               1046\nName: Edited by, dtype: object\n[<class 'str'> <class 'list'> <class 'float'>]\n\ncount              1304\nunique                3\ntop       <class 'str'>\nfreq                626\nName: Production, dtype: object\n[<class 'str'> <class 'list'> <class 'float'>]\n\ncount              1304\nunique                3\ntop       <class 'str'>\nfreq               1136\nName: Distributed by, dtype: object\n[<class 'list'> <class 'str'> <class 'float'>]\n\ncount               1304\nunique                 2\ntop       <class 'list'>\nfreq                1296\nName: Release date, dtype: object\n[<class 'list'> <class 'float'>]\n\ncount              1304\nunique                3\ntop       <class 'str'>\nfreq               1273\nName: Running time, dtype: object\n[<class 'str'> <class 'float'> <class 'list'>]\n\ncount              1304\nunique                3\ntop       <class 'str'>\nfreq               1171\nName: Country, dtype: object\n[<class 'str'> <class 'list'> <class 'float'>]\n\ncount              1304\nunique                3\ntop       <class 'str'>\nfreq               1215\nName: Language, dtype: object\n[<class 'str'> <class 'float'> <class 'list'>]\n\ncount              1304\nunique                3\ntop       <class 'str'>\nfreq                793\nName: Budget, dtype: object\n[<class 'str'> <class 'float'> <class 'list'>]\n\ncount              1304\nunique                3\ntop       <class 'str'>\nfreq                868\nName: Box office, dtype: object\n[<class 'str'> <class 'float'> <class 'list'>]\n\ncount                1304\nunique                  3\ntop       <class 'float'>\nfreq                  776\nName: Based on, dtype: object\n[<class 'float'> <class 'str'> <class 'list'>]\n\ncount                1304\nunique                  3\ntop       <class 'float'>\nfreq                  682\nName: Written by, dtype: object\n[<class 'float'> <class 'str'> <class 'list'>]\n\ncount                1304\nunique                  3\ntop       <class 'float'>\nfreq                 1273\nName: Animation by, dtype: object\n[<class 'float'> <class 'str'> <class 'list'>]\n\ncount                1304\nunique                  3\ntop       <class 'float'>\nfreq                 1185\nName: Narrated by, dtype: object\n[<class 'float'> <class 'str'> <class 'list'>]\n\n"
    }
   ],
   "source": [
    "mixed_data_clomuns = data.columns[list(map(lambda x: x == 'mixed', dtypes))]\n",
    "\n",
    "for col in mixed_data_clomuns:\n",
    "    print(data[col].map(type).describe())\n",
    "    print(data[col].map(type).unique())\n",
    "    print()"
   ]
  },
  {
   "cell_type": "markdown",
   "metadata": {},
   "source": [
    "Analyzing these results we realize that the float type data we see are `NaN` values and all other variables contain list.\n",
    "\n",
    "While a movie can have multiple languages, it is suspicious for it to have multiple budgets or be based on multiple sources. Inspecting furthur:"
   ]
  },
  {
   "cell_type": "code",
   "execution_count": 27,
   "metadata": {},
   "outputs": [
    {
     "output_type": "stream",
     "name": "stdout",
     "text": "Series([], Name: name, dtype: object)\n\nSeries([], Name: image, dtype: object)\n\n27           [ (uncredited), Victor Fleming, King Vidor]\n94                       [Guy Brenton, Lindsay Anderson]\n137                      [Harve Foster, Wilfred Jackson]\n152    [ (supervising), William Cottrell, David Hand,...\n177                 [Michael Powell, Emeric Pressburger]\nName: Directed by, dtype: object\n\n0    [Moon Yang-kwon, Bong Yok-cho, Jang Young-hwan...\n1         [Denzel Washington, Todd Black, Scott Rudin]\n2                         [Kristóf Deák, Anna Udvardy]\n3    [Shawn Levy, Dan Levine, Aaron Ryder, David Li...\n4    [Ezra Edelman, Tamara Rosenberg, Nina Krstic, ...\nName: Produced by, dtype: object\n\n0                           [Bong Joon-ho, Han Jin-won]\n8                     [Robert Schenkkan, Andrew Knight]\n26                    [Samuel Hoffenstein, Eric Taylor]\n27    [Noel Langley, Florence Ryerson, Edgar Allan W...\n81                        [Tess Slesinger, Frank Davis]\nName: Screenplay by, dtype: object\n\n237                   [Meredith Willson, Franklin Lacey]\n293    [Federico Fellini, Ennio Flaiano, Tullio Pinelli]\n346                        [Robert Riskin, Liam O'Brien]\n417                             [Joe Grant, Dick Huemer]\n442                        [Leo McCarey, Frank R. Adams]\nName: Story by, dtype: object\n\n0    [Song Kang-ho, Lee Sun-kyun, Cho Yeo-jeong, Ch...\n1    [Denzel Washington, Viola Davis, Stephen McKin...\n2    [Dorka Gáspárfalvi, Dorottya Hais, Zsófia Szam...\n3    [Amy Adams, Jeremy Renner, Forest Whitaker, Mi...\n6    [Eddie Redmayne, Katherine Waterston, Dan Fogl...\nName: Starring, dtype: object\n\n13                           [Composed and conducted by]\n123    [ (uncredited), Louis Gruenberg, Richard Hagem...\n137       [Edward Plumb, Paul J. Smith, Charles Wolcott]\n152         [Frank Churchill, Paul Smith, Leigh Harline]\n174                        [Georges Auric, Victor Young]\nName: Music by, dtype: object\n\n26                          [W. Howard Greene, Hal Mohr]\n174                         [Henri Alekan, Franz Planer]\n217    [Tom Tutwiler, Lamar Boren, James Wong Howe, F...\n222                    [W. Howard Greene, Victor Milner]\n254                     [Lloyd Ahern, Charles G. Clarke]\nName: Cinematography, dtype: object\n\n4      [Bret Granato, Maya Mumma, Ben Sozanski]\n15                  [Nat Sanders, Joi McMillon]\n110            [Doane Harrison, Arthur Schmidt]\n120          [Anson Stevenson, James E. Newcom]\n123            [Otho Lovering, Dorothy Spencer]\nName: Edited by, dtype: object\n\n1    [Macro Media, Bron Creative, Escape Artists, S...\n3    [FilmNation Entertainment, Lava Bear Films, 21...\n4                           [Laylow Films, ESPN Films]\n5      [Walt Disney Pictures, Pixar Animation Studios]\n6                [Warner Bros. Pictures, Heyday Films]\nName: Production, dtype: object\n\n0                                     [CJ Entertainment]\n8      [(United States), (Australia), Summit Entertai...\n10                [Amazon Studios, Roadside Attractions]\n96     [ ,  , British Lion Film Corporation, Selznick...\n293    [ (Italy), Pathé Consortium Cinéma (France), C...\nName: Distributed by, dtype: object\n\n0    [2019-05-21, 2019-05-30]\n1    [2016-12-15, 2016-12-16]\n2                [2016-02-28]\n3    [2016-09-01, 2016-11-11]\n4    [2016-01-22, 2016-05-20]\nName: Release date, dtype: object\n\n293           [174 minutes, 180 minutes (United States)]\n371    [221 minutes, 234–238 minutes (with , , , , , ...\n555                       [193 minutes,  , 200 minutes ]\n587    [147 minutes, 100 minutes, 84 minutes, 100 min...\n594                           [149 minutes, 155 minutes]\nName: Running time, dtype: object\n\n6     [United Kingdom, United States]\n7                      [Iran, France]\n8          [United States, Australia]\n17            [Greece, United States]\n96                   [United Kingdom]\nName: Country, dtype: object\n\n17               [English, Greek]\n77             [English, Spanish]\n79              [English, French]\n96     [English, German, Russian]\n286     [English, German, French]\nName: Language, dtype: object\n\n587     [8,291,712 Soviet rubles, (US$9.2 million)]\n838                    [£2.3 million, ($3 million)]\n1058                           [($15–19.2 million)]\n1281       [$70 million (gross), $59 million (net)]\nName: Budget, dtype: object\n\n16                        [US$2,137,575 , US$5,295,526 ]\n26                  [$1.6 million, 2,316,416 admissions]\n293    [$19.5 million (United States), 13,617,148 adm...\n629                     [$30.8 million , $14.6 million ]\n639                       [$51.7 million , $75 million ]\nName: Box office, dtype: object\n\n192    [, a novel, by ,  , Vladimir Jabotinsky, Holy ...\n234       [by Alan Jay Lerner, by , George Bernard Shaw]\n278                                  [Louisa May Alcott]\n599             [by , by , Alan Jay Lerner, T. H. White]\n631    [1954 Biography, by , 1961 Autobiography, by ,...\nName: Based on, dtype: object\n\n13                                      [Rachel Shenton]\n57     [Don Hartman, Francis Martin, Frank Butler, Wa...\n94                       [Guy Brenton, Lindsay Anderson]\n110    [Charles Brackett, Billy Wilder, D. M. Marshma...\n120    [William A. Wellman, Robert Carson, Dorothy Pa...\nName: Written by, dtype: object\n\n506    [Art Davis, Virgil Ross, Gerry Chiniquy, Harry...\nName: Animation by, dtype: object\n\nSeries([], Name: Layouts by, dtype: object)\n\nSeries([], Name: Color process, dtype: object)\n\n440                            [Kent Smith, Hans Conried]\n543                     [Fredric March, Burgess Meredith]\n908                      [Dorothy Stroup, Lynn O'Donnell]\n1097    [ (Hindi),  (French),  (French),  (French),  (...\nName: Narrated by, dtype: object\n\nSeries([], Name: Backgrounds by, dtype: object)\n\n"
    }
   ],
   "source": [
    "for col in data.columns:\n",
    "    print(data[[datatype == list for datatype in data[col].map(type)]][col].head())\n",
    "    print()"
   ]
  },
  {
   "cell_type": "markdown",
   "metadata": {},
   "source": [
    "We have finally stumbled on some inconsistencies in our parsing. Checking the `Based on` column closely we find that this might not be a list after all."
   ]
  },
  {
   "cell_type": "code",
   "execution_count": 29,
   "metadata": {},
   "outputs": [
    {
     "output_type": "execute_result",
     "data": {
      "text/plain": "192    [, a novel, by ,  , Vladimir Jabotinsky, Holy ...\n234       [by Alan Jay Lerner, by , George Bernard Shaw]\n278                                  [Louisa May Alcott]\n599             [by , by , Alan Jay Lerner, T. H. White]\n631    [1954 Biography, by , 1961 Autobiography, by ,...\nName: Based on, dtype: object"
     },
     "metadata": {},
     "execution_count": 29
    }
   ],
   "source": [
    "data[[datatype == list for datatype in data['Based on'].map(type)]]['Based on'].head()"
   ]
  },
  {
   "cell_type": "markdown",
   "metadata": {},
   "source": [
    "There are similar inconsistencies that are now aparent. However, we now have a through under standing of the structure of data we have and can go back to our scraping application."
   ]
  }
 ]
}